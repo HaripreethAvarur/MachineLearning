{
 "cells": [
  {
   "cell_type": "code",
   "execution_count": 8,
   "id": "121d6752",
   "metadata": {},
   "outputs": [
    {
     "name": "stdout",
     "output_type": "stream",
     "text": [
      "The list of colors for each vertex are:  {'C': 0, 'B': 1, 'D': 2, 'A': 2, 'E': 1}\n",
      "\n",
      "LABEL: \n",
      "\n",
      "Orange:0 \n",
      "Green:1 \n",
      "Blue:2 \n",
      "Red:3 \n",
      "Yellow:4 \n",
      "White:5 \n",
      "Black:6\n"
     ]
    }
   ],
   "source": [
    "def graph_coloring(graph):\n",
    "    vertices = sorted(graph.keys(), key = lambda v: len(graph[v]), reverse=True)\n",
    "    color_map={}\n",
    "    \n",
    "    for vertex in vertices: \n",
    "        used_colors=set()\n",
    "        for neighbour in graph[vertex]:\n",
    "            if neighbour in color_map:\n",
    "                used_colors.add(color_map[neighbour])\n",
    "        for color in range(len(vertices)):\n",
    "            if color not in used_colors:\n",
    "                color_map[vertex]=color\n",
    "                break\n",
    "    \n",
    "    return color_map\n",
    "\n",
    "if __name__ == '__main__':\n",
    "    \n",
    "    graph={\n",
    "        'A': ['B', 'C'],\n",
    "        'B': ['A', 'C', 'D'],\n",
    "        'C': ['A', 'B', 'D', 'E'],\n",
    "        'D': ['B', 'C', 'E'],\n",
    "        'E': ['C', 'D']      \n",
    "    }\n",
    "    \n",
    "    list_vertex_colors = graph_coloring(graph)\n",
    "    print(\"The list of colors for each vertex are: \", list_vertex_colors)\n",
    "    \n",
    "    print(\"\\nLABEL: \\n\\nOrange:0 \\nGreen:1 \\nBlue:2 \\nRed:3 \\nYellow:4 \\nWhite:5 \\nBlack:6\")"
   ]
  },
  {
   "cell_type": "code",
   "execution_count": 10,
   "id": "d8385e92",
   "metadata": {},
   "outputs": [
    {
     "name": "stdout",
     "output_type": "stream",
     "text": [
      "{'B': 0, 'C': 1, 'A': 2, 'E': 2, 'D': 0}\n"
     ]
    }
   ],
   "source": [
    "#practice \n",
    "\n",
    "def graph_coloring(graph):\n",
    "    vertices=sorted(graph.keys(), key=lambda v:len(graph[v]), reverse=True)\n",
    "    color_map={}\n",
    "    for vertex in vertices:\n",
    "        used_color=set()\n",
    "        for neighbour in graph[vertex]:\n",
    "            if neighbour in color_map:\n",
    "                used_color.add(color_map[neighbour])\n",
    "        for color in range(len(vertices)):\n",
    "            if color not in used_color:\n",
    "                color_map[vertex]=color \n",
    "                break\n",
    "    return color_map\n",
    "\n",
    "if __name__ ==\"__main__\":\n",
    "    graph={\n",
    "        'A':['B','C'],\n",
    "        'B':['A','C','E'],\n",
    "        'C':['B','D','E'],\n",
    "        'D':['C'],\n",
    "        'E':['B','C']  \n",
    "    }\n",
    "    g=graph_coloring(graph)\n",
    "    print(g)\n",
    "                "
   ]
  },
  {
   "cell_type": "code",
   "execution_count": 7,
   "id": "b7670281",
   "metadata": {},
   "outputs": [
    {
     "name": "stdout",
     "output_type": "stream",
     "text": [
      "{'A': 0, 'C': 1, 'B': 1, 'D': 0}\n"
     ]
    }
   ],
   "source": [
    "def graph_coloring(graph):\n",
    "    vertices=sorted(graph.keys(), key=lambda v:len(graph[v]),reverse=True)\n",
    "    color_map={}\n",
    "    for vertex in vertices:\n",
    "        used_color=set()\n",
    "        for neighbour in graph[vertex]:\n",
    "            if neighbour in color_map:\n",
    "                used_color.add(color_map[neighbour])\n",
    "        for color in range(len(vertices)):\n",
    "            if color not in used_color:\n",
    "                color_map[vertex]=color\n",
    "                break\n",
    "    return color_map\n",
    "\n",
    "graph={\n",
    "    'A':['B','C'],\n",
    "    'B':['A'],\n",
    "    'C':['A','D'],\n",
    "    'D':['C']\n",
    "}\n",
    "g=graph_coloring(graph)\n",
    "print(g)"
   ]
  },
  {
   "cell_type": "code",
   "execution_count": 11,
   "id": "a4dc976d",
   "metadata": {},
   "outputs": [
    {
     "name": "stdout",
     "output_type": "stream",
     "text": [
      "{'C': 0, 'B': 1, 'A': 0, 'D': 1, 'E': 1}\n"
     ]
    }
   ],
   "source": [
    "def graph_coloring(graph):\n",
    "    vertices=sorted(graph.keys(), key=lambda v:len(graph[v]), reverse=True)\n",
    "    color_map={}\n",
    "\n",
    "    for vertex in vertices:\n",
    "        used_color=set()\n",
    "        for neighbour in graph[vertex]:\n",
    "            if neighbour in color_map:\n",
    "                used_color.add(color_map[neighbour])\n",
    "        for color in range(len(vertices)):\n",
    "            if color not in used_color:\n",
    "                color_map[vertex]=color\n",
    "                break\n",
    "    return color_map\n",
    "\n",
    "graph={\n",
    "    'A':['B'],\n",
    "    'B':['A','C'],\n",
    "    'C':['B','D','E'],\n",
    "    'D':['C'],\n",
    "    'E':['C']\n",
    "}\n",
    "print(graph_coloring(graph))"
   ]
  },
  {
   "cell_type": "code",
   "execution_count": null,
   "id": "a5d2665b",
   "metadata": {},
   "outputs": [],
   "source": []
  }
 ],
 "metadata": {
  "kernelspec": {
   "display_name": "Python 3 (ipykernel)",
   "language": "python",
   "name": "python3"
  },
  "language_info": {
   "codemirror_mode": {
    "name": "ipython",
    "version": 3
   },
   "file_extension": ".py",
   "mimetype": "text/x-python",
   "name": "python",
   "nbconvert_exporter": "python",
   "pygments_lexer": "ipython3",
   "version": "3.10.9"
  }
 },
 "nbformat": 4,
 "nbformat_minor": 5
}
