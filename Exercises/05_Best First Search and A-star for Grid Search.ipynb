{
 "cells": [
  {
   "cell_type": "code",
   "execution_count": 19,
   "id": "7ded0c56",
   "metadata": {},
   "outputs": [
    {
     "name": "stdout",
     "output_type": "stream",
     "text": [
      "BFS Path: [(0, 0), (0, 1), (1, 1), (2, 1), (2, 0)]\n",
      "A* Path: [(0, 0), (1, 0), (2, 0)]\n"
     ]
    }
   ],
   "source": [
    "from collections import deque\n",
    "import heapq\n",
    "\n",
    "def bfs(grid, start, goal):\n",
    "    queue = deque([(start, [])])\n",
    "    visited = set([start])\n",
    "\n",
    "    while queue:\n",
    "        current, path = queue.popleft()\n",
    "        if current == goal:\n",
    "            return path + [current]\n",
    "\n",
    "        for dx, dy in [(0, 1), (0, -1), (1, 0), (-1, 0)]:\n",
    "            neighbor = (current[0] + dx, current[1] + dy)\n",
    "            if neighbor in grid and neighbor not in visited:\n",
    "                queue.append((neighbor, path + [current]))\n",
    "                visited.add(neighbor)\n",
    "\n",
    "    return None\n",
    "\n",
    "def astar(grid, start, goal):\n",
    "    queue = [(0, start, [])]\n",
    "    visited = set([start])\n",
    "\n",
    "    while queue:\n",
    "        cost, current, path = heapq.heappop(queue)\n",
    "        if current == goal:\n",
    "            return path + [current]\n",
    "\n",
    "        for dx, dy in [(0, 1), (0, -1), (1, 0), (-1, 0)]:\n",
    "            neighbor = (current[0] + dx, current[1] + dy)\n",
    "            if neighbor in grid and neighbor not in visited:\n",
    "                new_cost = cost + 2  # Assuming uniform cost for each movement\n",
    "                heapq.heappush(queue, (new_cost + abs(neighbor[0] - goal[0]) + abs(neighbor[1] - goal[1]), neighbor, path + [current]))\n",
    "                visited.add(neighbor)\n",
    "\n",
    "    return None\n",
    "\n",
    "# Example usage\n",
    "grid = {(0, 0), (0, 1), (1, 1),(2, 0), (2, 1), (3, 1), (3, 2), (3, 3), (2, 3), (1, 3), (1, 2)}\n",
    "grid_a = {(0,0), (0,1), (1,0), (1,1), (2,0), (2,1), (3,0), (3,1)}\n",
    "start = (0, 0)\n",
    "goal = (2, 0)\n",
    "\n",
    "bfs_path = bfs(grid, start, goal)\n",
    "astar_path = astar(grid_a, start, goal)\n",
    "\n",
    "print(\"BFS Path:\", bfs_path)\n",
    "print(\"A* Path:\", astar_path)"
   ]
  },
  {
   "cell_type": "code",
   "execution_count": 12,
   "id": "14cbd30a",
   "metadata": {},
   "outputs": [
    {
     "name": "stdout",
     "output_type": "stream",
     "text": [
      "[(0, 0), (1, 0), (2, 0), (2, 1), (2, 2)]\n",
      "[(0, 0), (0, 1), (0, 2), (1, 2), (2, 2)]\n"
     ]
    }
   ],
   "source": [
    "from collections import deque \n",
    "import heapq \n",
    "\n",
    "def bfs(grid,start,goal):\n",
    "    queue=deque([(start, [])])\n",
    "    visited=set([start])\n",
    "    \n",
    "    while queue:\n",
    "        current,path=queue.popleft()\n",
    "        if current==goal:\n",
    "            return(path+[current])\n",
    "        \n",
    "        for dx, dy in ([1,0],[-1,0],[0,1],[0,-1]):\n",
    "            neighbour=(current[0]+dx, current[1]+dy)\n",
    "            if neighbour in grid and neighbour not in visited:\n",
    "                queue.append((neighbour,path+[current]))\n",
    "                visited.add(neighbour)\n",
    "    \n",
    "    return None\n",
    "\n",
    "def astar(grid,start,goal):\n",
    "    queue=[(0,start,[])]\n",
    "    visited=set([start])\n",
    "    \n",
    "    while queue:\n",
    "        cost,current,path=heapq.heappop(queue)\n",
    "        if current==goal:\n",
    "            return path+[current]\n",
    "        \n",
    "        for dx,dy in ([1,0],[-1,0],[0,1],[0,-1]):\n",
    "            neighbour=(current[0]+dx, current[1]+dy)\n",
    "            if (neighbour in grid and neighbour not in visited):\n",
    "                new_cost =cost+1\n",
    "                heapq.heappush(queue, (new_cost + abs(neighbour[0]-goal[0])+abs(neighbour[1]-goal[1]), neighbour, path+[current]))\n",
    "                visited.add(neighbour)\n",
    "    return None\n",
    "\n",
    "grid={(0,0),(1,0),(0,1),(0,2),(1,1),(1,2),(2,0),(2,1),(2,2)}\n",
    "start=(0,0)\n",
    "goal=(2,2)\n",
    "\n",
    "print(bfs(grid,start,goal))\n",
    "print(astar(grid,start,goal))"
   ]
  },
  {
   "cell_type": "code",
   "execution_count": 19,
   "id": "6e611a61",
   "metadata": {},
   "outputs": [
    {
     "name": "stdout",
     "output_type": "stream",
     "text": [
      "[(0, 0), (1, 0), (2, 0), (2, 1), (2, 2)]\n",
      "[(0, 0), (0, 1), (0, 2), (1, 2), (2, 2)]\n"
     ]
    }
   ],
   "source": [
    "from collections import deque\n",
    "import heapq\n",
    "\n",
    "def bfs(grid,start,goal):\n",
    "    queue=deque([(start,[])])\n",
    "    visited=set([start])\n",
    "    \n",
    "    while queue:\n",
    "        current,path=queue.popleft()\n",
    "        if current==goal:\n",
    "            return(path+[current])\n",
    "        for dx,dy in ([1,0],[-1,0],[0,1],[0,-1]):\n",
    "            neighbour = (current[0]+dx, current[1]+dy)\n",
    "            queue.append((neighbour,path+[current]))\n",
    "            visited.add(neighbour)\n",
    "    return None\n",
    "\n",
    "def astar(grid,start,goal):\n",
    "    queue=[(0, start, [])]\n",
    "    visited=set([start])\n",
    "    \n",
    "    while queue:\n",
    "        cost,current,path=heapq.heappop(queue)\n",
    "        if current==goal:\n",
    "            return(path+[current])\n",
    "        for dx,dy in ([1,0],[-1,0],[0,1],[0,-1]):\n",
    "            neighbour = (current[0]+dx, current[1]+dy)\n",
    "            new_cost=cost+1\n",
    "            heapq.heappush(queue, (new_cost+abs(neighbour[0]-goal[0])+abs(neighbour[1]-goal[1]), neighbour, path+[current]))\n",
    "            visited.add(neighbour)\n",
    "    return None\n",
    "\n",
    "grid={(0,0),(1,0),(0,1),(0,2),(1,1),(1,2),(2,0),(2,1),(2,2)}\n",
    "start=(0,0)\n",
    "goal=(2,2)\n",
    "\n",
    "print(bfs(grid,start,goal))\n",
    "print(astar(grid,start,goal))\n"
   ]
  },
  {
   "cell_type": "code",
   "execution_count": null,
   "id": "d0d6e42a",
   "metadata": {},
   "outputs": [],
   "source": []
  }
 ],
 "metadata": {
  "kernelspec": {
   "display_name": "Python 3 (ipykernel)",
   "language": "python",
   "name": "python3"
  },
  "language_info": {
   "codemirror_mode": {
    "name": "ipython",
    "version": 3
   },
   "file_extension": ".py",
   "mimetype": "text/x-python",
   "name": "python",
   "nbconvert_exporter": "python",
   "pygments_lexer": "ipython3",
   "version": "3.10.9"
  }
 },
 "nbformat": 4,
 "nbformat_minor": 5
}
