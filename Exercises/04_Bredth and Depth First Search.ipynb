{
 "cells": [
  {
   "cell_type": "code",
   "execution_count": 9,
   "id": "cff867b9",
   "metadata": {},
   "outputs": [
    {
     "name": "stdout",
     "output_type": "stream",
     "text": [
      "BFS Sum: 21\n",
      "BFS Path: A -> B -> E -> F\n",
      "DFS Sum: 21\n",
      "DFS Path: A -> B -> D -> A -> B -> D -> E -> F -> C -> A -> B -> D -> A -> B -> D -> E -> F -> C -> A -> B -> D -> A -> B -> D -> E -> F -> C -> A -> B -> D -> A -> B -> D -> E -> F -> C -> A -> B -> D -> A -> B -> D -> E -> F -> C -> A -> B -> D -> A -> B -> D -> E -> F -> C -> A -> B -> D -> A -> B -> D -> E -> F -> C -> A -> B -> D -> A -> B -> D -> E -> F -> C -> A -> B -> D -> A -> B -> D -> E -> F -> C -> A -> B -> D -> A -> B -> D -> E -> F -> C -> A -> B -> D -> A -> B -> D -> E -> F -> C -> A -> B -> D -> A -> B -> D -> E -> F -> C -> A -> B -> D -> A -> B -> D -> E -> F -> C -> A -> B -> D -> A -> B -> D -> E -> F -> C -> A -> B -> D -> A -> B -> D -> E -> F -> C -> A -> B -> D -> A -> B -> D -> E -> F -> C\n"
     ]
    }
   ],
   "source": [
    "from collections import deque\n",
    "\n",
    "def bfs(graph, start, values):\n",
    "    visited = set()\n",
    "    queue = deque([(start, values[start], [start])])  # Add path to the queue\n",
    "    total_sum = 0\n",
    "\n",
    "    while queue:\n",
    "        vertex, value, path = queue.popleft()\n",
    "        if vertex not in visited:\n",
    "            visited.add(vertex)\n",
    "            total_sum += value\n",
    "\n",
    "            for neighbor in graph[vertex]:\n",
    "                if neighbor not in visited:\n",
    "                    queue.append((neighbor, values[neighbor], path + [neighbor]))  # Update the path\n",
    "\n",
    "    return total_sum, path  # Return the sum and path\n",
    "\n",
    "def dfs(graph, start, values, visited=None, path=None):\n",
    "    if visited is None:\n",
    "        visited = set()\n",
    "    if path is None:\n",
    "        path = []\n",
    "\n",
    "    visited.add(start)\n",
    "    total_sum = values[start]\n",
    "    path.append(start)\n",
    "\n",
    "    for neighbor in graph[start]:\n",
    "        if neighbor not in visited:\n",
    "            sum_, path_ = dfs(graph, neighbor, values, visited, path)  # Recursively get the sum and path\n",
    "            total_sum += sum_\n",
    "            path += path_\n",
    "\n",
    "    return total_sum, path  # Return the sum and path\n",
    "\n",
    "graph = {\n",
    "    'A': ['B', 'C'],\n",
    "    'B': ['A', 'D', 'E'],\n",
    "    'C': ['A', 'F'],\n",
    "    'D': ['B'],\n",
    "    'E': ['B', 'F'],\n",
    "    'F': ['C', 'E']\n",
    "}\n",
    "\n",
    "values = {\n",
    "    'A': 3,\n",
    "    'B': 5,\n",
    "    'C': 2,\n",
    "    'D': 1,\n",
    "    'E': 4,\n",
    "    'F': 6\n",
    "}\n",
    "\n",
    "start_vertex = 'A'\n",
    "\n",
    "bfs_sum, bfs_path = bfs(graph, start_vertex, values)\n",
    "dfs_sum, dfs_path = dfs(graph, start_vertex, values)\n",
    "\n",
    "print(\"BFS Sum:\", bfs_sum)\n",
    "print(\"BFS Path:\", ' -> '.join(bfs_path))\n",
    "print(\"DFS Sum:\", dfs_sum)\n",
    "print(\"DFS Path:\", ' -> '.join(dfs_path))\n"
   ]
  },
  {
   "cell_type": "code",
   "execution_count": null,
   "id": "0c527fd9",
   "metadata": {},
   "outputs": [],
   "source": []
  }
 ],
 "metadata": {
  "kernelspec": {
   "display_name": "Python 3 (ipykernel)",
   "language": "python",
   "name": "python3"
  },
  "language_info": {
   "codemirror_mode": {
    "name": "ipython",
    "version": 3
   },
   "file_extension": ".py",
   "mimetype": "text/x-python",
   "name": "python",
   "nbconvert_exporter": "python",
   "pygments_lexer": "ipython3",
   "version": "3.10.9"
  }
 },
 "nbformat": 4,
 "nbformat_minor": 5
}
