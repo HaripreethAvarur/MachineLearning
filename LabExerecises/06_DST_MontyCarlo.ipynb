{
 "cells": [
  {
   "cell_type": "code",
   "execution_count": 3,
   "id": "288b05ba",
   "metadata": {},
   "outputs": [
    {
     "name": "stdout",
     "output_type": "stream",
     "text": [
      "0.633\n"
     ]
    }
   ],
   "source": [
    "from random import randint \n",
    "\n",
    "player_won=0\n",
    "number_of_matches=1000\n",
    "for _ in range(number_of_matches):\n",
    "    caris = openeddoor = randint(1,3)\n",
    "    player_choice=randint(1,3)\n",
    "    \n",
    "    while openeddoor in (caris, player_choice):\n",
    "        openeddoor = randint(1,3)\n",
    "    \n",
    "    if(player_choice==3 and openeddoor==2) or (player_choice==2 and openeddoor==3):\n",
    "        player_choice=1\n",
    "    elif(player_choice==1 and openeddoor==2) or (player_choice==2 and openeddoor==1):\n",
    "        player_choice=3  \n",
    "    elif(player_choice==1 and openeddoor==3) or (player_choice==3 and openeddoor==1):\n",
    "        player_choice=2\n",
    "        \n",
    "    if(player_choice==caris):\n",
    "        player_won+=1\n",
    "        \n",
    "print(player_won/number_of_matches)"
   ]
  }
 ],
 "metadata": {
  "kernelspec": {
   "display_name": "Python 3 (ipykernel)",
   "language": "python",
   "name": "python3"
  },
  "language_info": {
   "codemirror_mode": {
    "name": "ipython",
    "version": 3
   },
   "file_extension": ".py",
   "mimetype": "text/x-python",
   "name": "python",
   "nbconvert_exporter": "python",
   "pygments_lexer": "ipython3",
   "version": "3.10.9"
  }
 },
 "nbformat": 4,
 "nbformat_minor": 5
}
