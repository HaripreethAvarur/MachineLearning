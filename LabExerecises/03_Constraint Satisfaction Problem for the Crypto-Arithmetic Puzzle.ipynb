{
 "cells": [
  {
   "cell_type": "code",
   "execution_count": 1,
   "id": "25ceccc9",
   "metadata": {},
   "outputs": [
    {
     "name": "stdout",
     "output_type": "stream",
     "text": [
      "Enter the Equation: SEND + MORE = MONEY\n",
      "9567+1085 = 10652 (mapping: {'o': 0, 'm': 1, 's': 9, 'r': 8, 'n': 6, 'd': 7, 'e': 5, 'y': 2})\n",
      "2817+368 = 3185 (mapping: {'o': 3, 'm': 0, 's': 2, 'r': 6, 'n': 1, 'd': 7, 'e': 8, 'y': 5})\n",
      "2819+368 = 3187 (mapping: {'o': 3, 'm': 0, 's': 2, 'r': 6, 'n': 1, 'd': 9, 'e': 8, 'y': 7})\n",
      "3719+457 = 4176 (mapping: {'o': 4, 'm': 0, 's': 3, 'r': 5, 'n': 1, 'd': 9, 'e': 7, 'y': 6})\n",
      "3829+458 = 4287 (mapping: {'o': 4, 'm': 0, 's': 3, 'r': 5, 'n': 2, 'd': 9, 'e': 8, 'y': 7})\n",
      "3712+467 = 4179 (mapping: {'o': 4, 'm': 0, 's': 3, 'r': 6, 'n': 1, 'd': 2, 'e': 7, 'y': 9})\n",
      "3821+468 = 4289 (mapping: {'o': 4, 'm': 0, 's': 3, 'r': 6, 'n': 2, 'd': 1, 'e': 8, 'y': 9})\n",
      "5849+638 = 6487 (mapping: {'o': 6, 'm': 0, 's': 5, 'r': 3, 'n': 4, 'd': 9, 'e': 8, 'y': 7})\n",
      "5731+647 = 6378 (mapping: {'o': 6, 'm': 0, 's': 5, 'r': 4, 'n': 3, 'd': 1, 'e': 7, 'y': 8})\n",
      "5732+647 = 6379 (mapping: {'o': 6, 'm': 0, 's': 5, 'r': 4, 'n': 3, 'd': 2, 'e': 7, 'y': 9})\n",
      "6419+724 = 7143 (mapping: {'o': 7, 'm': 0, 's': 6, 'r': 2, 'n': 1, 'd': 9, 'e': 4, 'y': 3})\n",
      "6853+728 = 7581 (mapping: {'o': 7, 'm': 0, 's': 6, 'r': 2, 'n': 5, 'd': 3, 'e': 8, 'y': 1})\n",
      "6415+734 = 7149 (mapping: {'o': 7, 'm': 0, 's': 6, 'r': 3, 'n': 1, 'd': 5, 'e': 4, 'y': 9})\n",
      "6524+735 = 7259 (mapping: {'o': 7, 'm': 0, 's': 6, 'r': 3, 'n': 2, 'd': 4, 'e': 5, 'y': 9})\n",
      "6851+738 = 7589 (mapping: {'o': 7, 'm': 0, 's': 6, 'r': 3, 'n': 5, 'd': 1, 'e': 8, 'y': 9})\n",
      "7429+814 = 8243 (mapping: {'o': 8, 'm': 0, 's': 7, 'r': 1, 'n': 2, 'd': 9, 'e': 4, 'y': 3})\n",
      "7539+815 = 8354 (mapping: {'o': 8, 'm': 0, 's': 7, 'r': 1, 'n': 3, 'd': 9, 'e': 5, 'y': 4})\n",
      "7649+816 = 8465 (mapping: {'o': 8, 'm': 0, 's': 7, 'r': 1, 'n': 4, 'd': 9, 'e': 6, 'y': 5})\n",
      "7316+823 = 8139 (mapping: {'o': 8, 'm': 0, 's': 7, 'r': 2, 'n': 1, 'd': 6, 'e': 3, 'y': 9})\n",
      "7531+825 = 8356 (mapping: {'o': 8, 'm': 0, 's': 7, 'r': 2, 'n': 3, 'd': 1, 'e': 5, 'y': 6})\n",
      "7534+825 = 8359 (mapping: {'o': 8, 'm': 0, 's': 7, 'r': 2, 'n': 3, 'd': 4, 'e': 5, 'y': 9})\n",
      "7643+826 = 8469 (mapping: {'o': 8, 'm': 0, 's': 7, 'r': 2, 'n': 4, 'd': 3, 'e': 6, 'y': 9})\n",
      "8324+913 = 9237 (mapping: {'o': 9, 'm': 0, 's': 8, 'r': 1, 'n': 2, 'd': 4, 'e': 3, 'y': 7})\n",
      "8432+914 = 9346 (mapping: {'o': 9, 'm': 0, 's': 8, 'r': 1, 'n': 3, 'd': 2, 'e': 4, 'y': 6})\n",
      "8542+915 = 9457 (mapping: {'o': 9, 'm': 0, 's': 8, 'r': 1, 'n': 4, 'd': 2, 'e': 5, 'y': 7})\n",
      "None\n"
     ]
    }
   ],
   "source": [
    "from itertools import permutations\n",
    "\n",
    "def get_value(word, substitution):\n",
    "    sum_of_digits=0\n",
    "    factor=1\n",
    "    word=word[::-1]\n",
    "    for letter in word:\n",
    "        sum_of_digits += factor*substitution[letter] #D: D:9, F:1 sum_of_digits: 1*9=9 | E: E:7, F:10 sum_of_digits: (1*9)+(10*7)=79\n",
    "        factor *=10\n",
    "    return sum_of_digits\n",
    "\n",
    "def eval_eq(equation):\n",
    "    left, right = equation.lower().replace(' ','').split('=')\n",
    "    left = left.split('+')\n",
    "    letters = set(right)\n",
    "    for word in left:\n",
    "        letters.update(word)\n",
    "    letters = list(letters)\n",
    "    \n",
    "    digits=range(10)\n",
    "    for permutation in permutations(digits, len(letters)):\n",
    "        subs = dict(zip(letters, permutation))\n",
    "        \n",
    "        left_sum = sum(get_value(word,subs) for word in left)\n",
    "        right_value = get_value(right, subs)\n",
    "        \n",
    "        if (left_sum == right_value):\n",
    "            left_equation='+'.join(str(get_value(word,subs)) for word in left)\n",
    "            mapping = \"mapping: {}\".format(subs)\n",
    "            print(f\"{left_equation} = {right_value} ({mapping})\")\n",
    "            \n",
    "equation = input(\"Enter the Equation: \")\n",
    "print(eval_eq(equation))"
   ]
  },
  {
   "cell_type": "code",
   "execution_count": 7,
   "id": "343c1c7d",
   "metadata": {},
   "outputs": [],
   "source": [
    "import itertools\n",
    "import re\n",
    "\n",
    "def solve(formula):\n",
    "    return filter(valid, letter_replacement(formula))\n",
    "def letter_replacement(formula):\n",
    "    formula = formula.replace(\"=\", \"==\")\n",
    "    letters=(cat(set(re.findall(\"[A-Z]\", formula))))\n",
    "    for i in itertools.permutations(\"1234567890\", len(letters)):\n",
    "        yield formula.translate(str.maketrans(letters, cat(i)))\n",
    "def valid(exp):\n",
    "    try:\n",
    "        return not leading_zeros(exp) and eval(exp) is True\n",
    "    except ArithmeticError:\n",
    "        return False\n",
    "\n",
    "cat = \"\".join\n",
    "leading_zeros = re.compile(r\"\\b0[0-9]\").search"
   ]
  },
  {
   "cell_type": "code",
   "execution_count": 8,
   "id": "cce10071",
   "metadata": {},
   "outputs": [
    {
     "data": {
      "text/plain": [
       "'9567 + 1085 == 10652'"
      ]
     },
     "execution_count": 8,
     "metadata": {},
     "output_type": "execute_result"
    }
   ],
   "source": [
    "next(solve(\"SEND + MORE = MONEY\"))"
   ]
  },
  {
   "cell_type": "code",
   "execution_count": null,
   "id": "06f8f0c6",
   "metadata": {},
   "outputs": [],
   "source": []
  }
 ],
 "metadata": {
  "kernelspec": {
   "display_name": "Python 3 (ipykernel)",
   "language": "python",
   "name": "python3"
  },
  "language_info": {
   "codemirror_mode": {
    "name": "ipython",
    "version": 3
   },
   "file_extension": ".py",
   "mimetype": "text/x-python",
   "name": "python",
   "nbconvert_exporter": "python",
   "pygments_lexer": "ipython3",
   "version": "3.10.9"
  }
 },
 "nbformat": 4,
 "nbformat_minor": 5
}
