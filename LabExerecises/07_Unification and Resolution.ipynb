{
 "cells": [
  {
   "cell_type": "code",
   "execution_count": 1,
   "id": "b6122de7",
   "metadata": {},
   "outputs": [
    {
     "name": "stdout",
     "output_type": "stream",
     "text": [
      "Unification: {'¬p': '¬q', 'q': 'r'}\n",
      "Resolution: [['¬p', 'r']]\n"
     ]
    }
   ],
   "source": [
    "def unify(substitution, x, y):\n",
    "    if substitution is None:\n",
    "        return None\n",
    "    elif x == y:\n",
    "        return substitution\n",
    "    elif is_variable(x):\n",
    "        return unify_variable(substitution, x, y)\n",
    "    elif is_variable(y):\n",
    "        return unify_variable(substitution, y, x)\n",
    "    elif is_compound(x) and is_compound(y):\n",
    "        return unify(\n",
    "            unify(substitution, x[0], y[0]),\n",
    "            x[1:],\n",
    "            y[1:]\n",
    "        )\n",
    "    else:\n",
    "        return None\n",
    "\n",
    "def unify_variable(substitution, var, x):\n",
    "    if var in substitution:\n",
    "        return unify(substitution, substitution[var], x)\n",
    "    elif x in substitution:\n",
    "        return unify(substitution, var, substitution[x])\n",
    "    else:\n",
    "        substitution[var] = x\n",
    "        return substitution\n",
    "\n",
    "def is_variable(x):\n",
    "    return isinstance(x, str) and x.islower()\n",
    "\n",
    "def is_compound(x):\n",
    "    return isinstance(x, list)\n",
    "\n",
    "def resolve(clause1, clause2):\n",
    "    resolved = []\n",
    "\n",
    "    for literal1 in clause1:\n",
    "        for literal2 in clause2:\n",
    "            if is_negation(literal1, literal2):\n",
    "                resolved.append(resolve_literals(literal1, literal2, clause1, clause2))\n",
    "\n",
    "    return resolved\n",
    "\n",
    "def is_negation(literal1, literal2):\n",
    "    return literal1[0] == '¬' and literal1[1:] == literal2 or literal2[0] == '¬' and literal2[1:] == literal1\n",
    "\n",
    "def resolve_literals(literal1, literal2, clause1, clause2):\n",
    "    resolved = []\n",
    "\n",
    "    for l1 in clause1:\n",
    "        if l1 != literal1:\n",
    "            resolved.append(l1)\n",
    "\n",
    "    for l2 in clause2:\n",
    "        if l2 != literal2:\n",
    "            resolved.append(l2)\n",
    "\n",
    "    return resolved\n",
    "\n",
    "# Example usage\n",
    "clause1 = ['¬p', 'q']\n",
    "clause2 = ['¬q', 'r']\n",
    "\n",
    "unified = unify({}, clause1, clause2)\n",
    "resolved = resolve(clause1, clause2)\n",
    "\n",
    "print(\"Unification:\", unified)\n",
    "print(\"Resolution:\", resolved)\n"
   ]
  },
  {
   "cell_type": "code",
   "execution_count": null,
   "id": "75ca7f10",
   "metadata": {},
   "outputs": [],
   "source": []
  }
 ],
 "metadata": {
  "kernelspec": {
   "display_name": "Python 3 (ipykernel)",
   "language": "python",
   "name": "python3"
  },
  "language_info": {
   "codemirror_mode": {
    "name": "ipython",
    "version": 3
   },
   "file_extension": ".py",
   "mimetype": "text/x-python",
   "name": "python",
   "nbconvert_exporter": "python",
   "pygments_lexer": "ipython3",
   "version": "3.10.9"
  }
 },
 "nbformat": 4,
 "nbformat_minor": 5
}
