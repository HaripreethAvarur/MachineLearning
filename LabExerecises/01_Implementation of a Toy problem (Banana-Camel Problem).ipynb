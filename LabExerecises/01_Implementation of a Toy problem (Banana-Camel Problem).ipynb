{
 "cells": [
  {
   "cell_type": "code",
   "execution_count": 1,
   "id": "7fc7c968",
   "metadata": {},
   "outputs": [],
   "source": [
    "#Banana - Camel Problem "
   ]
  },
  {
   "cell_type": "code",
   "execution_count": 3,
   "id": "9c3150ce",
   "metadata": {},
   "outputs": [
    {
     "name": "stdout",
     "output_type": "stream",
     "text": [
      "The Number of trips required to take all bananas to the next droppoint:  3\n",
      "The distance between points:  333\n",
      "The amount of bananas consumed (positive consumption) as of now are:  333\n",
      "The number of bananas left at current droppoint:  1000\n",
      "\n",
      "\n",
      "The remaining distance:  667\n",
      "The amount of bananas droped at the destination:  333\n"
     ]
    }
   ],
   "source": [
    "num_bananas = 2000\n",
    "distance = 1000\n",
    "consumed = 0\n",
    "while (num_bananas > distance):\n",
    "    trips = (num_bananas//distance)*2-1\n",
    "    print(\"The Number of trips required to take all bananas to the next droppoint: \",trips)\n",
    "    droppoint_dist = distance//trips\n",
    "    print(\"The distance between points: \",droppoint_dist)\n",
    "    consumed += droppoint_dist\n",
    "    print(\"The amount of bananas consumed (positive consumption) as of now are: \",consumed)\n",
    "    num_bananas -=  distance\n",
    "    print(\"The number of bananas left at current droppoint: \",num_bananas)\n",
    "    print(\"\\n\")\n",
    "distance_left = distance - consumed\n",
    "print(\"The remaining distance: \",distance_left)\n",
    "print(\"The amount of bananas droped at the destination: \", num_bananas - distance_left)"
   ]
  },
  {
   "cell_type": "code",
   "execution_count": 9,
   "id": "f21ffc22",
   "metadata": {},
   "outputs": [
    {
     "name": "stdout",
     "output_type": "stream",
     "text": [
      "distance left:  467\n",
      "bananas at dest:  533\n"
     ]
    }
   ],
   "source": [
    "#practice\n",
    "num_bananas=3000\n",
    "distance=1000\n",
    "consumed=0\n",
    "while(num_bananas>distance):\n",
    "    trips=(num_bananas//distance)*2-1\n",
    "    droppoint_dist=distance//trips\n",
    "    consumed+=droppoint_dist\n",
    "    num_bananas-=distance\n",
    "distance=distance-consumed\n",
    "print(\"distance left: \",distance)\n",
    "print(\"bananas at dest: \",num_bananas-distance)"
   ]
  },
  {
   "cell_type": "code",
   "execution_count": null,
   "id": "eba7f657",
   "metadata": {},
   "outputs": [],
   "source": []
  },
  {
   "cell_type": "code",
   "execution_count": null,
   "id": "6a768c8d",
   "metadata": {},
   "outputs": [],
   "source": []
  }
 ],
 "metadata": {
  "kernelspec": {
   "display_name": "Python 3 (ipykernel)",
   "language": "python",
   "name": "python3"
  },
  "language_info": {
   "codemirror_mode": {
    "name": "ipython",
    "version": 3
   },
   "file_extension": ".py",
   "mimetype": "text/x-python",
   "name": "python",
   "nbconvert_exporter": "python",
   "pygments_lexer": "ipython3",
   "version": "3.10.9"
  }
 },
 "nbformat": 4,
 "nbformat_minor": 5
}
