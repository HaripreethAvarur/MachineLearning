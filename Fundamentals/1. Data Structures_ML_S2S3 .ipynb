{
 "cells": [
  {
   "cell_type": "markdown",
   "id": "00fcb50b",
   "metadata": {},
   "source": [
    "# Data Structures"
   ]
  },
  {
   "cell_type": "raw",
   "id": "f5a2ce6d",
   "metadata": {},
   "source": [
    "Primitive Data Structures Operations: "
   ]
  },
  {
   "cell_type": "markdown",
   "id": "2f72b2c9",
   "metadata": {},
   "source": [
    "##### Operations on Floats "
   ]
  },
  {
   "cell_type": "code",
   "execution_count": null,
   "id": "130ad188",
   "metadata": {
    "scrolled": true
   },
   "outputs": [],
   "source": [
    "x = 4.0\n",
    "y = 2.0\n",
    "\n",
    "#Addition\n",
    "print(x+y)\n",
    "\n",
    "#Subtraction\n",
    "print(x-y)\n",
    "\n",
    "#Multiplication\n",
    "print(x*y)\n",
    "\n",
    "#Division - Returns the quotient \n",
    "print(x/y)\n",
    "\n",
    "#Modulus - Returns the remainder\n",
    "print(x%y)\n",
    "\n",
    "#Exponent/Powers\n",
    "print(x**y)"
   ]
  },
  {
   "cell_type": "markdown",
   "id": "0c1f99f9",
   "metadata": {},
   "source": [
    "##### Operations on Strings"
   ]
  },
  {
   "cell_type": "code",
   "execution_count": 14,
   "id": "f4e0e208",
   "metadata": {},
   "outputs": [],
   "source": [
    "a=[]\n",
    "for i in range(5):\n",
    "    n=n+1\n",
    "    a.append(n)\n",
    "    \n",
    "   "
   ]
  },
  {
   "cell_type": "code",
   "execution_count": 15,
   "id": "aa307dbf",
   "metadata": {},
   "outputs": [
    {
     "data": {
      "text/plain": [
       "[6, 7, 8, 9, 10]"
      ]
     },
     "execution_count": 15,
     "metadata": {},
     "output_type": "execute_result"
    }
   ],
   "source": [
    "a"
   ]
  },
  {
   "cell_type": "code",
   "execution_count": 24,
   "id": "43699ff6",
   "metadata": {},
   "outputs": [
    {
     "name": "stdout",
     "output_type": "stream",
     "text": [
      "1.0\n"
     ]
    }
   ],
   "source": [
    "import numpy as np\n",
    "a=[1,2,3,4,5]\n",
    "a=np.array(a)\n",
    "a=a.astype(\"float32\")\n",
    "print(a[0])"
   ]
  },
  {
   "cell_type": "code",
   "execution_count": 16,
   "id": "43ebddc4",
   "metadata": {},
   "outputs": [
    {
     "name": "stdout",
     "output_type": "stream",
     "text": [
      "Hello World\n",
      "3\n",
      "34\n",
      "HelloHello\n",
      "ll\n",
      "Wo\n"
     ]
    }
   ],
   "source": [
    "x = 'Hello'\n",
    "y = 'World'\n",
    "\n",
    "a=1\n",
    "b=2\n",
    "#Concantinate two strings\n",
    "print(x+' '+y)\n",
    "print(a+b)\n",
    "\n",
    "x1 = '3'\n",
    "x2 = '4'\n",
    "print(x1+x2)\n",
    "\n",
    "#Repeat\n",
    "print(x*2)\n",
    "\n",
    "#Slicing \n",
    "a = x[2:4] #Range Slicing \n",
    "b = y[0] + y[1]\n",
    "\n",
    "print(a)\n",
    "print(b)\n",
    "\n"
   ]
  },
  {
   "cell_type": "markdown",
   "id": "bb522b1b",
   "metadata": {},
   "source": [
    "##### Few Helper functions for string manipulation "
   ]
  },
  {
   "cell_type": "code",
   "execution_count": null,
   "id": "0b3944fa",
   "metadata": {},
   "outputs": [],
   "source": [
    "#Capitalize string \n",
    "print(str.capitalize('hello')) #Capitalizes the first letter\n",
    "s = 'hello'\n",
    "print(s.upper()) #Capitalizes the entire word \n",
    "\n",
    "#Length of a string\n",
    "str1 = 'hello world'\n",
    "print(len(str1))\n",
    "\n",
    "#Check if the string consists only digits \n",
    "str2 = 'h123'\n",
    "str3 = '123'\n",
    "\n",
    "print(str2.isdigit())\n",
    "print(str3.isdigit())\n",
    "\n",
    "#replace strings\n",
    "print(str2.replace('123', 'ello'))"
   ]
  },
  {
   "cell_type": "markdown",
   "id": "26203bb3",
   "metadata": {},
   "source": [
    "##### Boolean "
   ]
  },
  {
   "cell_type": "code",
   "execution_count": null,
   "id": "ac3f56ce",
   "metadata": {},
   "outputs": [],
   "source": [
    "x = 4\n",
    "y = 2\n",
    "\n",
    "print(x==y)\n",
    "print(x>y)"
   ]
  },
  {
   "cell_type": "markdown",
   "id": "599c9964",
   "metadata": {},
   "source": [
    "##### Data Type Conversion "
   ]
  },
  {
   "cell_type": "code",
   "execution_count": null,
   "id": "1f420c7d",
   "metadata": {},
   "outputs": [],
   "source": [
    "#To identify the data type \n",
    "a = 2\n",
    "b = 4.00\n",
    "c = 'hello'\n",
    "d = True \n",
    "\n",
    "print(type(a))\n",
    "print(type(b))\n",
    "print(type(c))\n",
    "print(type(d), \"\\n\")\n",
    "\n",
    "#Concatinate a int and a float \n",
    "x = 2\n",
    "y = 'hello'\n",
    "\n",
    "print(str(x)+y)"
   ]
  },
  {
   "cell_type": "raw",
   "id": "c4d16e10",
   "metadata": {},
   "source": [
    "Non Primitive Data Structures "
   ]
  },
  {
   "cell_type": "markdown",
   "id": "213db4fd",
   "metadata": {},
   "source": [
    "##### Lists"
   ]
  },
  {
   "cell_type": "code",
   "execution_count": null,
   "id": "56876966",
   "metadata": {},
   "outputs": [],
   "source": [
    "#Initilizing a list\n",
    "x1 = [] #Empty List\n",
    "x2 = [1, 2, 3]\n",
    "x3 = [1, 'apple', 4]\n",
    "print(type(x1))\n",
    "print(type(x2))\n",
    "print(type(x3))\n",
    "\n",
    "#Accessing data in a list \n",
    "x4 = ['a', 'b', 'c', 'd']\n",
    "print(x4[2])\n",
    "\n",
    "#Replacing values in a list \n",
    "x4[0] = 'z'\n",
    "print(x4)"
   ]
  },
  {
   "cell_type": "markdown",
   "id": "b9b6993a",
   "metadata": {},
   "source": [
    "##### Common functions for Lists"
   ]
  },
  {
   "cell_type": "code",
   "execution_count": null,
   "id": "3cc7dfbd",
   "metadata": {},
   "outputs": [],
   "source": [
    "#Append - inserts at the end (only 1 digit) \n",
    "x = [1,2,3,4,5]\n",
    "x.append(6)\n",
    "print(x)\n",
    "\n",
    "#Insert - insert at any desired index \n",
    "x = [1,2,3,4,5]\n",
    "x.insert(0,6) #(index ,insert number)\n",
    "print(x)\n",
    "\n",
    "#Remove - pass by value\n",
    "x = [1,2,3,4,5]\n",
    "x.remove(1)\n",
    "print(x)\n",
    "\n",
    "#Delete - pass by index \n",
    "x = [1,2,3,4,5]\n",
    "del x[1]\n",
    "print(x)\n",
    "\n",
    "#Reverse \n",
    "x = [1,2,3,4,5]\n",
    "x.reverse()\n",
    "print(x)"
   ]
  },
  {
   "cell_type": "markdown",
   "id": "575394b4",
   "metadata": {},
   "source": [
    "##### Dictionaries"
   ]
  },
  {
   "cell_type": "markdown",
   "id": "ace0eec0",
   "metadata": {},
   "source": [
    "Dictionaries are a type of data structures which holds a key-value pair."
   ]
  },
  {
   "cell_type": "code",
   "execution_count": 1,
   "id": "f195386f",
   "metadata": {},
   "outputs": [
    {
     "name": "stdout",
     "output_type": "stream",
     "text": [
      "{'Apple': 12, 'Banana': 15, 'Orange': 20}\n",
      "15\n",
      "3\n",
      "dict_keys(['Apple', 'Banana', 'Orange'])\n",
      "dict_values([12, 15, 20])\n",
      "{'Apple': 12, 'Orange': 20}\n",
      "{'Apple': 12, 'Orange': 20, 'Strawberry': 24}\n",
      "{'Apple': 25, 'Orange': 20, 'Strawberry': 24}\n"
     ]
    }
   ],
   "source": [
    "a = {'Apple' : 12, 'Banana' : 15, 'Orange' : 20}\n",
    "print(a)\n",
    "\n",
    "#Finding a value of a specific key\n",
    "print(a['Banana'])\n",
    "\n",
    "#Length \n",
    "print(len(a))\n",
    "\n",
    "#Printing keys and values seperately\n",
    "print(a.keys())\n",
    "print(a.values())\n",
    "\n",
    "#Deleting a key (will also delete the value)\n",
    "del a['Banana']\n",
    "print(a)\n",
    "\n",
    "#Adding a key\n",
    "a['Strawberry'] = 24\n",
    "print(a)\n",
    "\n",
    "#Changing the value of a key\n",
    "a['Apple'] = 25\n",
    "print(a)"
   ]
  },
  {
   "cell_type": "code",
   "execution_count": null,
   "id": "0b9328c6",
   "metadata": {},
   "outputs": [],
   "source": []
  }
 ],
 "metadata": {
  "kernelspec": {
   "display_name": "Python 3 (ipykernel)",
   "language": "python",
   "name": "python3"
  },
  "language_info": {
   "codemirror_mode": {
    "name": "ipython",
    "version": 3
   },
   "file_extension": ".py",
   "mimetype": "text/x-python",
   "name": "python",
   "nbconvert_exporter": "python",
   "pygments_lexer": "ipython3",
   "version": "3.9.7"
  }
 },
 "nbformat": 4,
 "nbformat_minor": 5
}
