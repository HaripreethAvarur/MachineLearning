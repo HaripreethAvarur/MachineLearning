{
 "cells": [
  {
   "cell_type": "markdown",
   "id": "d84a3629",
   "metadata": {},
   "source": [
    "\n",
    "\n",
    "# Loops "
   ]
  },
  {
   "cell_type": "markdown",
   "id": "53fc1e85",
   "metadata": {},
   "source": [
    "#### 1. While Loop"
   ]
  },
  {
   "cell_type": "code",
   "execution_count": 1,
   "id": "a90157c4",
   "metadata": {},
   "outputs": [
    {
     "name": "stdout",
     "output_type": "stream",
     "text": [
      "1\n",
      "2\n",
      "3\n",
      "4\n",
      "5\n",
      "Loop is Terminated\n"
     ]
    }
   ],
   "source": [
    "#Simple While loop\n",
    "\n",
    "i=1 \n",
    "while(i<=5):\n",
    "    print(i)\n",
    "    i=i+1\n",
    "print('Loop is Terminated')"
   ]
  },
  {
   "cell_type": "code",
   "execution_count": 2,
   "id": "45cfef06",
   "metadata": {},
   "outputs": [
    {
     "name": "stdout",
     "output_type": "stream",
     "text": [
      "The summation is :  2550\n"
     ]
    }
   ],
   "source": [
    "#Finding the sum of even numbers bw 1 to 100\n",
    "\n",
    "i=1\n",
    "sum=0\n",
    "\n",
    "while i<=100:\n",
    "    if i%2 == 0:\n",
    "        sum=sum+i\n",
    "    i+=1\n",
    "print('The summation is : ', sum)"
   ]
  },
  {
   "cell_type": "markdown",
   "id": "b72448e5",
   "metadata": {},
   "source": [
    "#### 2. For Loop"
   ]
  },
  {
   "cell_type": "code",
   "execution_count": 3,
   "id": "55cf2a68",
   "metadata": {},
   "outputs": [
    {
     "name": "stdout",
     "output_type": "stream",
     "text": [
      "0\n",
      "1\n",
      "2\n",
      "3\n",
      "4\n"
     ]
    }
   ],
   "source": [
    "numsequence = range(5)\n",
    "for i in numsequence: #OR for i in range(5):\n",
    "    print(i)"
   ]
  },
  {
   "cell_type": "code",
   "execution_count": 3,
   "id": "437b8a02",
   "metadata": {},
   "outputs": [
    {
     "name": "stdout",
     "output_type": "stream",
     "text": [
      "Current Alphabet is:  1\n",
      "Current Alphabet is:  B\n",
      "Current Alphabet is:  C\n",
      "Current Alphabet is:  D\n",
      "Current Alphabet is:  E\n"
     ]
    }
   ],
   "source": [
    "list1 = [1, 'B', 'C', 'D', 'E']\n",
    "for i in range(len(list1)):\n",
    "    print(\"Current Alphabet is: \", list1[i])\n",
    "    \n",
    "# OR\n",
    "#for i in list1:\n",
    "#   print(i)"
   ]
  },
  {
   "cell_type": "markdown",
   "id": "a8b6875c",
   "metadata": {},
   "source": [
    "#### Break & Continue "
   ]
  },
  {
   "cell_type": "raw",
   "id": "5a663cda",
   "metadata": {},
   "source": [
    "Break: #To end at the break condition "
   ]
  },
  {
   "cell_type": "code",
   "execution_count": 5,
   "id": "586788f5",
   "metadata": {},
   "outputs": [
    {
     "name": "stdout",
     "output_type": "stream",
     "text": [
      "1\n",
      "2\n",
      "3\n",
      "4\n",
      "5\n",
      "6\n",
      "7\n",
      "8\n"
     ]
    }
   ],
   "source": [
    "c = 1\n",
    "\n",
    "while c<10:\n",
    "    print(c)\n",
    "    if c==8:\n",
    "        break \n",
    "    c+=1"
   ]
  },
  {
   "cell_type": "raw",
   "id": "5ed2f227",
   "metadata": {},
   "source": [
    "Continue: #To skip counter at the mentioned condition "
   ]
  },
  {
   "cell_type": "code",
   "execution_count": 6,
   "id": "83ff304e",
   "metadata": {},
   "outputs": [
    {
     "name": "stdout",
     "output_type": "stream",
     "text": [
      "1\n",
      "2\n",
      "3\n",
      "4\n",
      "5\n",
      "6\n",
      "7\n",
      "9\n",
      "10\n"
     ]
    }
   ],
   "source": [
    "c = 0\n",
    "\n",
    "while c<10:\n",
    "    c=c+1\n",
    "    if c==8:\n",
    "        continue \n",
    "    print(c)"
   ]
  },
  {
   "cell_type": "markdown",
   "id": "d95273c5",
   "metadata": {},
   "source": [
    "#### Few Practice Examples "
   ]
  },
  {
   "cell_type": "raw",
   "id": "68e186f3",
   "metadata": {},
   "source": [
    "1. Find the Factorial of the given number "
   ]
  },
  {
   "cell_type": "code",
   "execution_count": 4,
   "id": "186a0f9e",
   "metadata": {},
   "outputs": [
    {
     "name": "stdout",
     "output_type": "stream",
     "text": [
      "120\n",
      "Wall time: 966 µs\n"
     ]
    }
   ],
   "source": [
    "%%time\n",
    "\n",
    "i=5 #input value\n",
    "o=1\n",
    "while i>1:\n",
    "    o=o*i*(i-1)\n",
    "    i-=2\n",
    "print(o)    "
   ]
  },
  {
   "cell_type": "code",
   "execution_count": 5,
   "id": "d803dafd",
   "metadata": {},
   "outputs": [
    {
     "name": "stdout",
     "output_type": "stream",
     "text": [
      "120\n",
      "Wall time: 0 ns\n"
     ]
    }
   ],
   "source": [
    "%%time\n",
    "                            #FOR>>>WHILE\n",
    "num=5 #input value       \n",
    "factorial=1\n",
    "for i in range(1,num+1):\n",
    "    factorial=factorial*i\n",
    "print(factorial)"
   ]
  },
  {
   "cell_type": "raw",
   "id": "7c518b51",
   "metadata": {},
   "source": [
    "2. Multiply all even numbers between a range of numbers"
   ]
  },
  {
   "cell_type": "code",
   "execution_count": 9,
   "id": "c2a8a00e",
   "metadata": {},
   "outputs": [
    {
     "name": "stdout",
     "output_type": "stream",
     "text": [
      "8\n"
     ]
    }
   ],
   "source": [
    "start=1\n",
    "end=5\n",
    "mul=1\n",
    "for num in range(start, end+1):\n",
    "    if num%2==0:\n",
    "        mul=num*mul\n",
    "print(mul) "
   ]
  },
  {
   "cell_type": "raw",
   "id": "928f6b77",
   "metadata": {},
   "source": [
    "3. Calacualte the sum of all the digits in a given numbere \n",
    "    #Ex. Input - 123 , Output - 6"
   ]
  },
  {
   "cell_type": "code",
   "execution_count": 10,
   "id": "6a394d77",
   "metadata": {},
   "outputs": [
    {
     "name": "stdout",
     "output_type": "stream",
     "text": [
      "6\n"
     ]
    }
   ],
   "source": [
    "i=123\n",
    "sum=0\n",
    "for digit in str(i):\n",
    "    sum+= int(digit)\n",
    "print(sum)"
   ]
  },
  {
   "cell_type": "raw",
   "id": "82c8ebf4",
   "metadata": {},
   "source": [
    "4. Write a program to reverse a given number."
   ]
  },
  {
   "cell_type": "code",
   "execution_count": 11,
   "id": "2f67e324",
   "metadata": {},
   "outputs": [
    {
     "name": "stdout",
     "output_type": "stream",
     "text": [
      "321\n"
     ]
    }
   ],
   "source": [
    "i=123\n",
    "o=''\n",
    "for digit in str(i):\n",
    "    o=digit+o\n",
    "print(o)"
   ]
  },
  {
   "cell_type": "raw",
   "id": "3088f745",
   "metadata": {},
   "source": [
    "5. Calaculate the average value of all even numbers bw 1 to 100 using loops"
   ]
  },
  {
   "cell_type": "code",
   "execution_count": 12,
   "id": "d693f543",
   "metadata": {},
   "outputs": [
    {
     "name": "stdout",
     "output_type": "stream",
     "text": [
      "51.0\n"
     ]
    }
   ],
   "source": [
    "sum,c = 0, 0\n",
    "for i in range(1,100+1):\n",
    "    if i%2==0:\n",
    "        sum+=i\n",
    "        c+=1\n",
    "print(sum/c)"
   ]
  },
  {
   "cell_type": "raw",
   "id": "352d085f",
   "metadata": {},
   "source": [
    "6. Write a program to find the numbers which are divisible by 7 and a multiple of 5 bw 500 to 100 (inclusive). "
   ]
  },
  {
   "cell_type": "code",
   "execution_count": 13,
   "id": "9269a22e",
   "metadata": {},
   "outputs": [
    {
     "name": "stdout",
     "output_type": "stream",
     "text": [
      "100 is divisible by 5\n",
      "105 is divisible by 7\n",
      "105 is divisible by 5\n",
      "110 is divisible by 5\n",
      "112 is divisible by 7\n",
      "115 is divisible by 5\n",
      "119 is divisible by 7\n",
      "120 is divisible by 5\n",
      "125 is divisible by 5\n",
      "126 is divisible by 7\n",
      "130 is divisible by 5\n",
      "133 is divisible by 7\n",
      "135 is divisible by 5\n",
      "140 is divisible by 7\n",
      "140 is divisible by 5\n",
      "145 is divisible by 5\n",
      "147 is divisible by 7\n",
      "150 is divisible by 5\n",
      "154 is divisible by 7\n",
      "155 is divisible by 5\n",
      "160 is divisible by 5\n",
      "161 is divisible by 7\n",
      "165 is divisible by 5\n",
      "168 is divisible by 7\n",
      "170 is divisible by 5\n",
      "175 is divisible by 7\n",
      "175 is divisible by 5\n",
      "180 is divisible by 5\n",
      "182 is divisible by 7\n",
      "185 is divisible by 5\n",
      "189 is divisible by 7\n",
      "190 is divisible by 5\n",
      "195 is divisible by 5\n",
      "196 is divisible by 7\n",
      "200 is divisible by 5\n",
      "203 is divisible by 7\n",
      "205 is divisible by 5\n",
      "210 is divisible by 7\n",
      "210 is divisible by 5\n",
      "215 is divisible by 5\n",
      "217 is divisible by 7\n",
      "220 is divisible by 5\n",
      "224 is divisible by 7\n",
      "225 is divisible by 5\n",
      "230 is divisible by 5\n",
      "231 is divisible by 7\n",
      "235 is divisible by 5\n",
      "238 is divisible by 7\n",
      "240 is divisible by 5\n",
      "245 is divisible by 7\n",
      "245 is divisible by 5\n",
      "250 is divisible by 5\n",
      "252 is divisible by 7\n",
      "255 is divisible by 5\n",
      "259 is divisible by 7\n",
      "260 is divisible by 5\n",
      "265 is divisible by 5\n",
      "266 is divisible by 7\n",
      "270 is divisible by 5\n",
      "273 is divisible by 7\n",
      "275 is divisible by 5\n",
      "280 is divisible by 7\n",
      "280 is divisible by 5\n",
      "285 is divisible by 5\n",
      "287 is divisible by 7\n",
      "290 is divisible by 5\n",
      "294 is divisible by 7\n",
      "295 is divisible by 5\n",
      "300 is divisible by 5\n",
      "301 is divisible by 7\n",
      "305 is divisible by 5\n",
      "308 is divisible by 7\n",
      "310 is divisible by 5\n",
      "315 is divisible by 7\n",
      "315 is divisible by 5\n",
      "320 is divisible by 5\n",
      "322 is divisible by 7\n",
      "325 is divisible by 5\n",
      "329 is divisible by 7\n",
      "330 is divisible by 5\n",
      "335 is divisible by 5\n",
      "336 is divisible by 7\n",
      "340 is divisible by 5\n",
      "343 is divisible by 7\n",
      "345 is divisible by 5\n",
      "350 is divisible by 7\n",
      "350 is divisible by 5\n",
      "355 is divisible by 5\n",
      "357 is divisible by 7\n",
      "360 is divisible by 5\n",
      "364 is divisible by 7\n",
      "365 is divisible by 5\n",
      "370 is divisible by 5\n",
      "371 is divisible by 7\n",
      "375 is divisible by 5\n",
      "378 is divisible by 7\n",
      "380 is divisible by 5\n",
      "385 is divisible by 7\n",
      "385 is divisible by 5\n",
      "390 is divisible by 5\n",
      "392 is divisible by 7\n",
      "395 is divisible by 5\n",
      "399 is divisible by 7\n",
      "400 is divisible by 5\n",
      "405 is divisible by 5\n",
      "406 is divisible by 7\n",
      "410 is divisible by 5\n",
      "413 is divisible by 7\n",
      "415 is divisible by 5\n",
      "420 is divisible by 7\n",
      "420 is divisible by 5\n",
      "425 is divisible by 5\n",
      "427 is divisible by 7\n",
      "430 is divisible by 5\n",
      "434 is divisible by 7\n",
      "435 is divisible by 5\n",
      "440 is divisible by 5\n",
      "441 is divisible by 7\n",
      "445 is divisible by 5\n",
      "448 is divisible by 7\n",
      "450 is divisible by 5\n",
      "455 is divisible by 7\n",
      "455 is divisible by 5\n",
      "460 is divisible by 5\n",
      "462 is divisible by 7\n",
      "465 is divisible by 5\n",
      "469 is divisible by 7\n",
      "470 is divisible by 5\n",
      "475 is divisible by 5\n",
      "476 is divisible by 7\n",
      "480 is divisible by 5\n",
      "483 is divisible by 7\n",
      "485 is divisible by 5\n",
      "490 is divisible by 7\n",
      "490 is divisible by 5\n",
      "495 is divisible by 5\n",
      "497 is divisible by 7\n",
      "500 is divisible by 5\n"
     ]
    }
   ],
   "source": [
    "for i in range(100-1,500+1):\n",
    "    if(i%7==0):\n",
    "        print(i, \"is divisible by 7\")\n",
    "    if(i%5==0):\n",
    "        print(i, \"is divisible by 5\")"
   ]
  },
  {
   "cell_type": "raw",
   "id": "1c84c9d1",
   "metadata": {},
   "source": [
    "7. Write a program which iterates through 1 to 50, and if the number is a multiple of 3, print \"Multiple of 3\" ; if the number is  multiple of 5, print \"Multiple of 5\" ; if the number is a multiple of both 3 and 5, print \"Multiple of 3 and 5\" ; else print the number. "
   ]
  },
  {
   "cell_type": "code",
   "execution_count": 14,
   "id": "0795fa3b",
   "metadata": {},
   "outputs": [
    {
     "name": "stdout",
     "output_type": "stream",
     "text": [
      "1\n",
      "2\n",
      "3 is a Multiple of 3\n",
      "4\n",
      "5 is a Multiple of 5\n",
      "6 is a Multiple of 3\n",
      "7\n",
      "8\n",
      "9 is a Multiple of 3\n",
      "10 is a Multiple of 5\n",
      "11\n",
      "12 is a Multiple of 3\n",
      "13\n",
      "14\n",
      "15 is a Multiple of 3 and 5\n",
      "16\n",
      "17\n",
      "18 is a Multiple of 3\n",
      "19\n",
      "20 is a Multiple of 5\n",
      "21 is a Multiple of 3\n",
      "22\n",
      "23\n",
      "24 is a Multiple of 3\n",
      "25 is a Multiple of 5\n",
      "26\n",
      "27 is a Multiple of 3\n",
      "28\n",
      "29\n",
      "30 is a Multiple of 3 and 5\n",
      "31\n",
      "32\n",
      "33 is a Multiple of 3\n",
      "34\n",
      "35 is a Multiple of 5\n",
      "36 is a Multiple of 3\n",
      "37\n",
      "38\n",
      "39 is a Multiple of 3\n",
      "40 is a Multiple of 5\n",
      "41\n",
      "42 is a Multiple of 3\n",
      "43\n",
      "44\n",
      "45 is a Multiple of 3 and 5\n",
      "46\n",
      "47\n",
      "48 is a Multiple of 3\n",
      "49\n",
      "50 is a Multiple of 5\n"
     ]
    }
   ],
   "source": [
    "for i in range(1,50+1):\n",
    "    if(i%3==0 and i%5==0):\n",
    "        print(i, \"is a Multiple of 3 and 5\")\n",
    "    elif(i%3==0):\n",
    "        print(i, \"is a Multiple of 3\")\n",
    "    elif(i%5==0):\n",
    "        print(i, \"is a Multiple of 5\")\n",
    "    else:\n",
    "        print(i)"
   ]
  },
  {
   "cell_type": "code",
   "execution_count": 1,
   "id": "1795af41",
   "metadata": {},
   "outputs": [
    {
     "ename": "SyntaxError",
     "evalue": "invalid syntax (Temp/ipykernel_29472/2142202380.py, line 4)",
     "output_type": "error",
     "traceback": [
      "\u001b[1;36m  File \u001b[1;32m\"C:\\Users\\HARIPR~1\\AppData\\Local\\Temp/ipykernel_29472/2142202380.py\"\u001b[1;36m, line \u001b[1;32m4\u001b[0m\n\u001b[1;33m    struct Node {\u001b[0m\n\u001b[1;37m           ^\u001b[0m\n\u001b[1;31mSyntaxError\u001b[0m\u001b[1;31m:\u001b[0m invalid syntax\n"
     ]
    }
   ],
   "source": [
    "#include <stdio.h>\n",
    "#include <stdlib.h>\n",
    " \n",
    "struct Node {\n",
    "    int data;\n",
    "    struct Node* next;\n",
    "};\n",
    " \n",
    "// This function prints contents of linked list starting from\n",
    "// the given node\n",
    "void printList(struct Node* n)\n",
    "{\n",
    "    while (n != NULL) {\n",
    "        printf(\" %d \", n->data);\n",
    "        n = n->next;\n",
    "    }\n",
    "}\n",
    " \n",
    "int main()\n",
    "{\n",
    "    struct Node* head = NULL;\n",
    "    struct Node* second = NULL;\n",
    "    struct Node* third = NULL;\n",
    " \n",
    "    // allocate 3 nodes in the heap\n",
    "    head = (struct Node*)malloc(sizeof(struct Node));\n",
    "    second = (struct Node*)malloc(sizeof(struct Node));\n",
    "    third = (struct Node*)malloc(sizeof(struct Node));\n",
    " \n",
    "    head->data = 1; // assign data in first node\n",
    "    head->next = second; // Link first node with second\n",
    " \n",
    "    second->data = 2; // assign data to second node\n",
    "    second->next = third;\n",
    " \n",
    "    third->data = 3; // assign data to third node\n",
    "    third->next = NULL;\n",
    " \n",
    "    printList(head);\n",
    " \n",
    "    return 0;\n",
    "}"
   ]
  },
  {
   "cell_type": "code",
   "execution_count": null,
   "id": "6296e9f0",
   "metadata": {},
   "outputs": [],
   "source": []
  }
 ],
 "metadata": {
  "kernelspec": {
   "display_name": "Python 3 (ipykernel)",
   "language": "python",
   "name": "python3"
  },
  "language_info": {
   "codemirror_mode": {
    "name": "ipython",
    "version": 3
   },
   "file_extension": ".py",
   "mimetype": "text/x-python",
   "name": "python",
   "nbconvert_exporter": "python",
   "pygments_lexer": "ipython3",
   "version": "3.9.7"
  }
 },
 "nbformat": 4,
 "nbformat_minor": 5
}
