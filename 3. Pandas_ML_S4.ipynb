{
 "cells": [
  {
   "cell_type": "markdown",
   "id": "c7ad2506",
   "metadata": {},
   "source": [
    "###### Working Directory"
   ]
  },
  {
   "cell_type": "markdown",
   "id": "88792619",
   "metadata": {},
   "source": [
    "Before getting started, let us understand what a working directory is... "
   ]
  },
  {
   "cell_type": "code",
   "execution_count": 1,
   "id": "e9f7b8a3",
   "metadata": {},
   "outputs": [],
   "source": [
    "import os "
   ]
  },
  {
   "cell_type": "code",
   "execution_count": 2,
   "id": "39a0f926",
   "metadata": {},
   "outputs": [
    {
     "data": {
      "text/plain": [
       "'C:\\\\Users\\\\Haripreeth Avarur\\\\Desktop\\\\Python'"
      ]
     },
     "execution_count": 2,
     "metadata": {},
     "output_type": "execute_result"
    }
   ],
   "source": [
    "os.getcwd()"
   ]
  },
  {
   "cell_type": "raw",
   "id": "527102a1",
   "metadata": {},
   "source": [
    "To Import the libraries into python, there are 3 methods:\n",
    "    \n",
    "    1. Placing the file in your working directory:\n",
    "        so, for ex. here go to C:\\\\Users\\\\Haripreeth Avarur\\\\Desktop\\\\Python and place the file \n",
    "        \n",
    "    2. Changing the working directory itself:\n",
    "        os.chdir('#Paste the directory of the file here') and change the slash to forward slash\n",
    "        \n",
    "    3. Read the directory directly by the path:\n",
    "        df = pd.read_csv('#paste the directory(change to forward slash) and / dataset name.filetype')"
   ]
  },
  {
   "cell_type": "markdown",
   "id": "76c88f85",
   "metadata": {},
   "source": [
    "# Pandas "
   ]
  },
  {
   "cell_type": "code",
   "execution_count": 3,
   "id": "4a1091f0",
   "metadata": {},
   "outputs": [],
   "source": [
    "#Import the libraries \n",
    "import numpy as np #as np is an alias\n",
    "import pandas as pd"
   ]
  },
  {
   "cell_type": "markdown",
   "id": "3e843ea5",
   "metadata": {},
   "source": [
    "#### Reading & Writing Files"
   ]
  },
  {
   "cell_type": "code",
   "execution_count": 4,
   "id": "76be88fd",
   "metadata": {},
   "outputs": [
    {
     "name": "stdout",
     "output_type": "stream",
     "text": [
      "   OrderDate   Region      Rep      Item  Units   Unit Cost     Total\n",
      "0   01-06-16     East    Jones    Pencil      95      1.990    189.05\n",
      "1    1-23-16  Central   Kivell    Binder      50     19.990    999.50\n",
      "2   02-09-16  Central  Jardine    Pencil      36      4.990    179.64\n",
      "3    2-26-16  Central     Gill       Pen      27     19.990    539.73\n",
      "4    3-15-16     West  Sorvino    Pencil      56      2.990    167.44\n",
      "5   04-01-16     East    Jones    Binder      60      4.990    299.40\n",
      "6    4-18-16  Central  Andrews    Pencil      75      1.990    149.25\n",
      "7   05-05-16  Central  Jardine    Pencil      90      4.990    449.10\n",
      "8    5-22-16     West  Thomson    Pencil      32      1.990     63.68\n",
      "9   06-08-16     East    Jones    Binder      60      8.990    539.40\n",
      "10   6-25-16  Central   Morgan    Pencil      90      4.990    449.10\n",
      "11  07-12-16     East   Howard    Binder      29      1.990     54.71\n",
      "12   7-29-16     East   Parent    Binder      81     19.990  1,619.19\n",
      "13   8-15-16     East    Jones    Pencil      35      4.990    174.65\n",
      "14  09-01-16  Central    Smith      Desk       2    125.990    250.00\n",
      "15   9-18-16     East    Jones   Pen Set      16     15.990    255.84\n",
      "16  10-05-16  Central   Morgan    Binder      28      8.990    251.72\n",
      "17  10-22-16     East    Jones       Pen      64      8.990    575.36\n",
      "18  11-08-16     East   Parent       Pen      15     19.990    299.85\n",
      "19  11-25-16  Central   Kivell   Pen Set      96      4.990    479.04\n",
      "20  12-12-16  Central    Smith    Pencil      67      1.290     86.43\n",
      "21  12-29-16     East   Parent   Pen Set      74     15.990  1,183.26\n",
      "22   1-15-17  Central     Gill    Binder      46      8.990    413.54\n",
      "23  02-01-17  Central    Smith    Binder      87     15.000  1,305.00\n",
      "24   2-18-17     East    Jones    Binder       4      4.990     19.96\n",
      "25  03-07-17     West  Sorvino    Binder       7     19.990    139.93\n",
      "26   3-24-17  Central  Jardine   Pen Set      50      4.990    249.50\n",
      "27  04-10-17  Central  Andrews    Pencil      66      1.990    131.34\n",
      "28   4-27-17     East   Howard       Pen      96      4.990    479.04\n",
      "29   5-14-17  Central     Gill    Pencil      53      1.290     68.37\n",
      "30   5-31-17  Central     Gill    Binder      80      8.990    719.20\n",
      "31   6-17-17  Central   Kivell      Desk       5    125.000    625.00\n",
      "32  07-04-17     East    Jones   Pen Set      62      4.990    309.38\n",
      "33   7-21-17  Central   Morgan   Pen Set      55     12.490    685.95\n",
      "34  08-07-17  Central   Kivell   Pen Set      42     23.950  1,005.90\n",
      "35   8-24-17     West  Sorvino      Desk       3    275.000    825.00\n",
      "36  09-10-17  Central     Gill    Pencil       7      1.290      9.03\n",
      "37   9-27-17     West  Sorvino       Pen      76      1.990    151.24\n",
      "38  10-14-17     West  Thomson    Binder      57     19.199  1,139.43\n",
      "39  10-31-17  Central  Andrews    Pencil      14      1.290     18.06\n",
      "40  11-17-17  Central  Jardine    Binder      11      4.990     54.89\n",
      "41  12-04-17  Central  Jardine    Binder      94     19.990  1,879.06\n",
      "42  12-21-17  Central  Andrews    Binder      28      4.990    139.72\n"
     ]
    }
   ],
   "source": [
    "txt_df=pd.read_csv('Data.csv') \n",
    "print(txt_df)"
   ]
  },
  {
   "cell_type": "code",
   "execution_count": 5,
   "id": "e0f84997",
   "metadata": {},
   "outputs": [
    {
     "data": {
      "text/html": [
       "<div>\n",
       "<style scoped>\n",
       "    .dataframe tbody tr th:only-of-type {\n",
       "        vertical-align: middle;\n",
       "    }\n",
       "\n",
       "    .dataframe tbody tr th {\n",
       "        vertical-align: top;\n",
       "    }\n",
       "\n",
       "    .dataframe thead th {\n",
       "        text-align: right;\n",
       "    }\n",
       "</style>\n",
       "<table border=\"1\" class=\"dataframe\">\n",
       "  <thead>\n",
       "    <tr style=\"text-align: right;\">\n",
       "      <th></th>\n",
       "      <th>OrderDate</th>\n",
       "      <th>Region</th>\n",
       "      <th>Rep</th>\n",
       "      <th>Item</th>\n",
       "      <th>Units</th>\n",
       "      <th>Unit Cost</th>\n",
       "      <th>Total</th>\n",
       "    </tr>\n",
       "  </thead>\n",
       "  <tbody>\n",
       "    <tr>\n",
       "      <th>0</th>\n",
       "      <td>01-06-16</td>\n",
       "      <td>East</td>\n",
       "      <td>Jones</td>\n",
       "      <td>Pencil</td>\n",
       "      <td>95</td>\n",
       "      <td>1.99</td>\n",
       "      <td>189.05</td>\n",
       "    </tr>\n",
       "    <tr>\n",
       "      <th>1</th>\n",
       "      <td>1-23-16</td>\n",
       "      <td>Central</td>\n",
       "      <td>Kivell</td>\n",
       "      <td>Binder</td>\n",
       "      <td>50</td>\n",
       "      <td>19.99</td>\n",
       "      <td>999.50</td>\n",
       "    </tr>\n",
       "    <tr>\n",
       "      <th>2</th>\n",
       "      <td>02-09-16</td>\n",
       "      <td>Central</td>\n",
       "      <td>Jardine</td>\n",
       "      <td>Pencil</td>\n",
       "      <td>36</td>\n",
       "      <td>4.99</td>\n",
       "      <td>179.64</td>\n",
       "    </tr>\n",
       "    <tr>\n",
       "      <th>3</th>\n",
       "      <td>2-26-16</td>\n",
       "      <td>Central</td>\n",
       "      <td>Gill</td>\n",
       "      <td>Pen</td>\n",
       "      <td>27</td>\n",
       "      <td>19.99</td>\n",
       "      <td>539.73</td>\n",
       "    </tr>\n",
       "    <tr>\n",
       "      <th>4</th>\n",
       "      <td>3-15-16</td>\n",
       "      <td>West</td>\n",
       "      <td>Sorvino</td>\n",
       "      <td>Pencil</td>\n",
       "      <td>56</td>\n",
       "      <td>2.99</td>\n",
       "      <td>167.44</td>\n",
       "    </tr>\n",
       "  </tbody>\n",
       "</table>\n",
       "</div>"
      ],
      "text/plain": [
       "  OrderDate   Region      Rep    Item  Units   Unit Cost   Total\n",
       "0  01-06-16     East    Jones  Pencil      95       1.99  189.05\n",
       "1   1-23-16  Central   Kivell  Binder      50      19.99  999.50\n",
       "2  02-09-16  Central  Jardine  Pencil      36       4.99  179.64\n",
       "3   2-26-16  Central     Gill     Pen      27      19.99  539.73\n",
       "4   3-15-16     West  Sorvino  Pencil      56       2.99  167.44"
      ]
     },
     "execution_count": 5,
     "metadata": {},
     "output_type": "execute_result"
    }
   ],
   "source": [
    "#Head FUnction\n",
    "txt_df.head() #calls the first 5 rows, but you can pass the number of rows in the ()."
   ]
  },
  {
   "cell_type": "markdown",
   "id": "d184f26c",
   "metadata": {},
   "source": [
    "###### To save the updated dataset (Dataframe to CSV)"
   ]
  },
  {
   "cell_type": "code",
   "execution_count": 6,
   "id": "164b0e4a",
   "metadata": {},
   "outputs": [],
   "source": [
    "txt_df.to_csv('first_df.csv')"
   ]
  },
  {
   "cell_type": "markdown",
   "id": "d3b1999e",
   "metadata": {},
   "source": [
    "###### Data Operations on new DF"
   ]
  },
  {
   "cell_type": "code",
   "execution_count": 7,
   "id": "4f6f6e9e",
   "metadata": {},
   "outputs": [
    {
     "data": {
      "text/plain": [
       "Index(['OrderDate', 'Region', 'Rep', 'Item', 'Units ', 'Unit Cost', 'Total'], dtype='object')"
      ]
     },
     "execution_count": 7,
     "metadata": {},
     "output_type": "execute_result"
    }
   ],
   "source": [
    "#Column Function - to view the columns of the DF\n",
    "import numpy as np\n",
    "import pandas as pd\n",
    "txt_df=pd.read_csv('Data.csv')\n",
    "\n",
    "\n",
    "txt_df.columns"
   ]
  },
  {
   "cell_type": "code",
   "execution_count": 8,
   "id": "1c74bfae",
   "metadata": {},
   "outputs": [
    {
     "data": {
      "text/plain": [
       "(43, 7)"
      ]
     },
     "execution_count": 8,
     "metadata": {},
     "output_type": "execute_result"
    }
   ],
   "source": [
    "#Shape Function - to validate number of rows and col.\n",
    "txt_df.shape\n"
   ]
  },
  {
   "cell_type": "code",
   "execution_count": 9,
   "id": "cde66e17",
   "metadata": {},
   "outputs": [
    {
     "data": {
      "text/html": [
       "<div>\n",
       "<style scoped>\n",
       "    .dataframe tbody tr th:only-of-type {\n",
       "        vertical-align: middle;\n",
       "    }\n",
       "\n",
       "    .dataframe tbody tr th {\n",
       "        vertical-align: top;\n",
       "    }\n",
       "\n",
       "    .dataframe thead th {\n",
       "        text-align: right;\n",
       "    }\n",
       "</style>\n",
       "<table border=\"1\" class=\"dataframe\">\n",
       "  <thead>\n",
       "    <tr style=\"text-align: right;\">\n",
       "      <th></th>\n",
       "      <th>OrderDate</th>\n",
       "      <th>Region</th>\n",
       "      <th>Rep</th>\n",
       "      <th>Item</th>\n",
       "      <th>Units</th>\n",
       "      <th>Unit Cost</th>\n",
       "      <th>Total</th>\n",
       "    </tr>\n",
       "  </thead>\n",
       "  <tbody>\n",
       "    <tr>\n",
       "      <th>38</th>\n",
       "      <td>10-14-17</td>\n",
       "      <td>West</td>\n",
       "      <td>Thomson</td>\n",
       "      <td>Binder</td>\n",
       "      <td>57</td>\n",
       "      <td>19.199</td>\n",
       "      <td>1,139.43</td>\n",
       "    </tr>\n",
       "    <tr>\n",
       "      <th>39</th>\n",
       "      <td>10-31-17</td>\n",
       "      <td>Central</td>\n",
       "      <td>Andrews</td>\n",
       "      <td>Pencil</td>\n",
       "      <td>14</td>\n",
       "      <td>1.290</td>\n",
       "      <td>18.06</td>\n",
       "    </tr>\n",
       "    <tr>\n",
       "      <th>40</th>\n",
       "      <td>11-17-17</td>\n",
       "      <td>Central</td>\n",
       "      <td>Jardine</td>\n",
       "      <td>Binder</td>\n",
       "      <td>11</td>\n",
       "      <td>4.990</td>\n",
       "      <td>54.89</td>\n",
       "    </tr>\n",
       "    <tr>\n",
       "      <th>41</th>\n",
       "      <td>12-04-17</td>\n",
       "      <td>Central</td>\n",
       "      <td>Jardine</td>\n",
       "      <td>Binder</td>\n",
       "      <td>94</td>\n",
       "      <td>19.990</td>\n",
       "      <td>1,879.06</td>\n",
       "    </tr>\n",
       "    <tr>\n",
       "      <th>42</th>\n",
       "      <td>12-21-17</td>\n",
       "      <td>Central</td>\n",
       "      <td>Andrews</td>\n",
       "      <td>Binder</td>\n",
       "      <td>28</td>\n",
       "      <td>4.990</td>\n",
       "      <td>139.72</td>\n",
       "    </tr>\n",
       "  </tbody>\n",
       "</table>\n",
       "</div>"
      ],
      "text/plain": [
       "   OrderDate   Region      Rep    Item  Units   Unit Cost     Total\n",
       "38  10-14-17     West  Thomson  Binder      57     19.199  1,139.43\n",
       "39  10-31-17  Central  Andrews  Pencil      14      1.290     18.06\n",
       "40  11-17-17  Central  Jardine  Binder      11      4.990     54.89\n",
       "41  12-04-17  Central  Jardine  Binder      94     19.990  1,879.06\n",
       "42  12-21-17  Central  Andrews  Binder      28      4.990    139.72"
      ]
     },
     "execution_count": 9,
     "metadata": {},
     "output_type": "execute_result"
    }
   ],
   "source": [
    "#Tail Function - calls the last 5 rows of the Dataset\n",
    "txt_df.tail()"
   ]
  },
  {
   "cell_type": "markdown",
   "id": "52b2014c",
   "metadata": {},
   "source": [
    "##### Data Understanding"
   ]
  },
  {
   "cell_type": "code",
   "execution_count": 10,
   "id": "141ada8c",
   "metadata": {},
   "outputs": [
    {
     "data": {
      "text/plain": [
       "<bound method DataFrame.info of    OrderDate   Region      Rep      Item  Units   Unit Cost     Total\n",
       "0   01-06-16     East    Jones    Pencil      95      1.990    189.05\n",
       "1    1-23-16  Central   Kivell    Binder      50     19.990    999.50\n",
       "2   02-09-16  Central  Jardine    Pencil      36      4.990    179.64\n",
       "3    2-26-16  Central     Gill       Pen      27     19.990    539.73\n",
       "4    3-15-16     West  Sorvino    Pencil      56      2.990    167.44\n",
       "5   04-01-16     East    Jones    Binder      60      4.990    299.40\n",
       "6    4-18-16  Central  Andrews    Pencil      75      1.990    149.25\n",
       "7   05-05-16  Central  Jardine    Pencil      90      4.990    449.10\n",
       "8    5-22-16     West  Thomson    Pencil      32      1.990     63.68\n",
       "9   06-08-16     East    Jones    Binder      60      8.990    539.40\n",
       "10   6-25-16  Central   Morgan    Pencil      90      4.990    449.10\n",
       "11  07-12-16     East   Howard    Binder      29      1.990     54.71\n",
       "12   7-29-16     East   Parent    Binder      81     19.990  1,619.19\n",
       "13   8-15-16     East    Jones    Pencil      35      4.990    174.65\n",
       "14  09-01-16  Central    Smith      Desk       2    125.990    250.00\n",
       "15   9-18-16     East    Jones   Pen Set      16     15.990    255.84\n",
       "16  10-05-16  Central   Morgan    Binder      28      8.990    251.72\n",
       "17  10-22-16     East    Jones       Pen      64      8.990    575.36\n",
       "18  11-08-16     East   Parent       Pen      15     19.990    299.85\n",
       "19  11-25-16  Central   Kivell   Pen Set      96      4.990    479.04\n",
       "20  12-12-16  Central    Smith    Pencil      67      1.290     86.43\n",
       "21  12-29-16     East   Parent   Pen Set      74     15.990  1,183.26\n",
       "22   1-15-17  Central     Gill    Binder      46      8.990    413.54\n",
       "23  02-01-17  Central    Smith    Binder      87     15.000  1,305.00\n",
       "24   2-18-17     East    Jones    Binder       4      4.990     19.96\n",
       "25  03-07-17     West  Sorvino    Binder       7     19.990    139.93\n",
       "26   3-24-17  Central  Jardine   Pen Set      50      4.990    249.50\n",
       "27  04-10-17  Central  Andrews    Pencil      66      1.990    131.34\n",
       "28   4-27-17     East   Howard       Pen      96      4.990    479.04\n",
       "29   5-14-17  Central     Gill    Pencil      53      1.290     68.37\n",
       "30   5-31-17  Central     Gill    Binder      80      8.990    719.20\n",
       "31   6-17-17  Central   Kivell      Desk       5    125.000    625.00\n",
       "32  07-04-17     East    Jones   Pen Set      62      4.990    309.38\n",
       "33   7-21-17  Central   Morgan   Pen Set      55     12.490    685.95\n",
       "34  08-07-17  Central   Kivell   Pen Set      42     23.950  1,005.90\n",
       "35   8-24-17     West  Sorvino      Desk       3    275.000    825.00\n",
       "36  09-10-17  Central     Gill    Pencil       7      1.290      9.03\n",
       "37   9-27-17     West  Sorvino       Pen      76      1.990    151.24\n",
       "38  10-14-17     West  Thomson    Binder      57     19.199  1,139.43\n",
       "39  10-31-17  Central  Andrews    Pencil      14      1.290     18.06\n",
       "40  11-17-17  Central  Jardine    Binder      11      4.990     54.89\n",
       "41  12-04-17  Central  Jardine    Binder      94     19.990  1,879.06\n",
       "42  12-21-17  Central  Andrews    Binder      28      4.990    139.72>"
      ]
     },
     "execution_count": 10,
     "metadata": {},
     "output_type": "execute_result"
    }
   ],
   "source": [
    "#Info function - gives datatype of the col. in dataset \n",
    "txt_df.info "
   ]
  },
  {
   "cell_type": "code",
   "execution_count": 11,
   "id": "1580a935",
   "metadata": {},
   "outputs": [
    {
     "data": {
      "text/html": [
       "<div>\n",
       "<style scoped>\n",
       "    .dataframe tbody tr th:only-of-type {\n",
       "        vertical-align: middle;\n",
       "    }\n",
       "\n",
       "    .dataframe tbody tr th {\n",
       "        vertical-align: top;\n",
       "    }\n",
       "\n",
       "    .dataframe thead th {\n",
       "        text-align: right;\n",
       "    }\n",
       "</style>\n",
       "<table border=\"1\" class=\"dataframe\">\n",
       "  <thead>\n",
       "    <tr style=\"text-align: right;\">\n",
       "      <th></th>\n",
       "      <th>Units</th>\n",
       "      <th>Unit Cost</th>\n",
       "    </tr>\n",
       "  </thead>\n",
       "  <tbody>\n",
       "    <tr>\n",
       "      <th>count</th>\n",
       "      <td>43.000000</td>\n",
       "      <td>43.000000</td>\n",
       "    </tr>\n",
       "    <tr>\n",
       "      <th>mean</th>\n",
       "      <td>49.325581</td>\n",
       "      <td>20.313233</td>\n",
       "    </tr>\n",
       "    <tr>\n",
       "      <th>std</th>\n",
       "      <td>30.078248</td>\n",
       "      <td>47.397741</td>\n",
       "    </tr>\n",
       "    <tr>\n",
       "      <th>min</th>\n",
       "      <td>2.000000</td>\n",
       "      <td>1.290000</td>\n",
       "    </tr>\n",
       "    <tr>\n",
       "      <th>25%</th>\n",
       "      <td>27.500000</td>\n",
       "      <td>3.990000</td>\n",
       "    </tr>\n",
       "    <tr>\n",
       "      <th>50%</th>\n",
       "      <td>53.000000</td>\n",
       "      <td>4.990000</td>\n",
       "    </tr>\n",
       "    <tr>\n",
       "      <th>75%</th>\n",
       "      <td>74.500000</td>\n",
       "      <td>17.594500</td>\n",
       "    </tr>\n",
       "    <tr>\n",
       "      <th>max</th>\n",
       "      <td>96.000000</td>\n",
       "      <td>275.000000</td>\n",
       "    </tr>\n",
       "  </tbody>\n",
       "</table>\n",
       "</div>"
      ],
      "text/plain": [
       "          Units    Unit Cost\n",
       "count  43.000000   43.000000\n",
       "mean   49.325581   20.313233\n",
       "std    30.078248   47.397741\n",
       "min     2.000000    1.290000\n",
       "25%    27.500000    3.990000\n",
       "50%    53.000000    4.990000\n",
       "75%    74.500000   17.594500\n",
       "max    96.000000  275.000000"
      ]
     },
     "execution_count": 11,
     "metadata": {},
     "output_type": "execute_result"
    }
   ],
   "source": [
    "#Describe function - to view 1 col. or to compare the col. - mean, std, median, etc. (Numerical Analysis) \n",
    "txt_df.describe()"
   ]
  },
  {
   "cell_type": "code",
   "execution_count": 13,
   "id": "0bb4dcf5",
   "metadata": {},
   "outputs": [
    {
     "name": "stdout",
     "output_type": "stream",
     "text": [
      "   OrderDate   Region  Unit Cost\n",
      "0   01-06-16     East      1.990\n",
      "1    1-23-16  Central     19.990\n",
      "2   02-09-16  Central      4.990\n",
      "3    2-26-16  Central     19.990\n",
      "4    3-15-16     West      2.990\n",
      "5   04-01-16     East      4.990\n",
      "6    4-18-16  Central      1.990\n",
      "7   05-05-16  Central      4.990\n",
      "8    5-22-16     West      1.990\n",
      "9   06-08-16     East      8.990\n",
      "10   6-25-16  Central      4.990\n",
      "11  07-12-16     East      1.990\n",
      "12   7-29-16     East     19.990\n",
      "13   8-15-16     East      4.990\n",
      "14  09-01-16  Central    125.990\n",
      "15   9-18-16     East     15.990\n",
      "16  10-05-16  Central      8.990\n",
      "17  10-22-16     East      8.990\n",
      "18  11-08-16     East     19.990\n",
      "19  11-25-16  Central      4.990\n",
      "20  12-12-16  Central      1.290\n",
      "21  12-29-16     East     15.990\n",
      "22   1-15-17  Central      8.990\n",
      "23  02-01-17  Central     15.000\n",
      "24   2-18-17     East      4.990\n",
      "25  03-07-17     West     19.990\n",
      "26   3-24-17  Central      4.990\n",
      "27  04-10-17  Central      1.990\n",
      "28   4-27-17     East      4.990\n",
      "29   5-14-17  Central      1.290\n",
      "30   5-31-17  Central      8.990\n",
      "31   6-17-17  Central    125.000\n",
      "32  07-04-17     East      4.990\n",
      "33   7-21-17  Central     12.490\n",
      "34  08-07-17  Central     23.950\n",
      "35   8-24-17     West    275.000\n",
      "36  09-10-17  Central      1.290\n",
      "37   9-27-17     West      1.990\n",
      "38  10-14-17     West     19.199\n",
      "39  10-31-17  Central      1.290\n",
      "40  11-17-17  Central      4.990\n",
      "41  12-04-17  Central     19.990\n",
      "42  12-21-17  Central      4.990\n"
     ]
    }
   ],
   "source": [
    "#Filter col. \n",
    "#1. create a new df name (ex. txt_df1)\n",
    "#2. then call the old df and use 2 square brackets and mention all the col, if \n",
    "    #you want only 1 col, you can just use one square bracket (ex. txt_df1 = txt_df[['Order', 'Region', 'Value']])\n",
    "    \n",
    "txt_df1 = txt_df[['OrderDate', 'Region', 'Unit Cost']]\n",
    "print(txt_df1)"
   ]
  },
  {
   "cell_type": "code",
   "execution_count": null,
   "id": "5a442945",
   "metadata": {},
   "outputs": [],
   "source": [
    "#Value_counts - to find the frequency distrubution of a catagorical data\n",
    "#txt_df.region.value_counts() or txt_df['Region'].value_counts() #region is a col. name\n",
    "\n",
    "txt_df.Region.value_counts()"
   ]
  },
  {
   "cell_type": "code",
   "execution_count": null,
   "id": "5804c019",
   "metadata": {},
   "outputs": [],
   "source": [
    "#To create a new column by doing an operation using other cols. \n",
    "#txt_df['total'] = txt_df['Units']*txt_df['Unit Cost']\n",
    "\n",
    "#txt_df['total'] = txt_df['Unit Cost']*txt_df['Units']\n",
    "#txt_df.head()"
   ]
  },
  {
   "cell_type": "markdown",
   "id": "9ba04501",
   "metadata": {},
   "source": [
    "##### Rename "
   ]
  },
  {
   "cell_type": "code",
   "execution_count": null,
   "id": "1bb9e817",
   "metadata": {},
   "outputs": [],
   "source": [
    "#To change the name of a col. \n",
    "#txt_df = txt_df.rename(columns={'total':'total sales'}) #using dictionaries, key=old name, value=new name"
   ]
  },
  {
   "cell_type": "markdown",
   "id": "7533b895",
   "metadata": {},
   "source": [
    "##### Conditions "
   ]
  },
  {
   "cell_type": "code",
   "execution_count": null,
   "id": "5f3b598f",
   "metadata": {},
   "outputs": [],
   "source": [
    "#Filter rows - Query function\n",
    "#Method 1: \n",
    "txt_df.query('Region == \"East\" & Item == \"Pencil\"')\n",
    "#Method 2:\n",
    "txt_df[(txt_df['Region'] == 'East') | (txt_df['Item'] =='Pencil')]\n",
    "#Method 3: \n",
    "regionlist = ['East', 'Central']\n",
    "txt_df[txt_df.Region.isin(regionlist)]"
   ]
  }
 ],
 "metadata": {
  "kernelspec": {
   "display_name": "Python 3 (ipykernel)",
   "language": "python",
   "name": "python3"
  },
  "language_info": {
   "codemirror_mode": {
    "name": "ipython",
    "version": 3
   },
   "file_extension": ".py",
   "mimetype": "text/x-python",
   "name": "python",
   "nbconvert_exporter": "python",
   "pygments_lexer": "ipython3",
   "version": "3.9.7"
  }
 },
 "nbformat": 4,
 "nbformat_minor": 5
}
